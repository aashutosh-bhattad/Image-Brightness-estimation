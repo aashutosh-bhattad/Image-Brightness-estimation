{
 "cells": [
  {
   "cell_type": "code",
   "execution_count": 1,
   "metadata": {},
   "outputs": [
    {
     "name": "stdout",
     "output_type": "stream",
     "text": [
      ">> Image Dimension => X:275, Y:183\n",
      ">> Total points: 1224\n",
      ">> Average Brightness: 5\n"
     ]
    }
   ],
   "source": [
    "# !pip install opencv-python\n",
    "# !pip install imutils\n",
    "\n",
    "import cv2\n",
    "\n",
    "#------------------------Reading image--------------------------------------\n",
    "img = cv2.imread('1.jpeg')\n",
    "img_dot = img\n",
    "\n",
    "#-----Converting image to LAB Color model----------------------------------- \n",
    "lab= cv2.cvtColor(img, cv2.COLOR_BGR2LAB)\n",
    "\n",
    "#-----Splitting the LAB image to different channels-------------------------\n",
    "l, a, b = cv2.split(lab)\n",
    "\n",
    "#-----Finding average lightness level in image by fixing some points--------\n",
    "y,x,z = img.shape #height, width of image\n",
    "print('>> Image Dimension => X:{}, Y:{}'.format(x,y))\n",
    "#Now we will decide some dynamic points on image for checking light intensity\n",
    "l_blur = cv2.GaussianBlur(l, (11, 11), 5)\n",
    "maxval = []\n",
    "count_percent = 3 #percent of total image\n",
    "count_percent = count_percent/100\n",
    "row_percent = int(count_percent*x) #1% of total pixels widthwise\n",
    "column_percent = int(count_percent*y) #1% of total pizel height wise\n",
    "for i in range(1,x-1):\n",
    "    if i%row_percent == 0:\n",
    "        for j in range(1, y-1):\n",
    "            if j%column_percent == 0:\n",
    "                pix_cord = (i,j)\n",
    "\n",
    "                cv2.circle(img_dot, (int(i), int(j)), 5, (0, 255, 0), 2)\n",
    "                img_segment = l_blur[i:i+3, j:j+3]\n",
    "                (minVal, maxVal, minLoc, maxLoc) = cv2.minMaxLoc(img_segment)\n",
    "                maxval.append(maxVal)\n",
    "\n",
    "avg_maxval = round(sum(maxval) / len(maxval))\n",
    "print('>> Total points: {}'.format(len(maxval)))\n",
    "\n",
    "def brightness(avgbr):\n",
    "    if 0<=avgbr<22:\n",
    "        avgbr = 0\n",
    "    elif 22<=avgbr<44:\n",
    "        avgbr = 1\n",
    "    elif 44<=avgbr<66:\n",
    "        avgbr = 2\n",
    "    elif 66<=avgbr<88:\n",
    "        avgbr = 3\n",
    "    elif 88<=avgbr<110:\n",
    "        avgbr = 4\n",
    "    elif 110<= avgbr<132:\n",
    "        avgbr = 5\n",
    "    elif 132<= avgbr<154:\n",
    "        avgbr = 6\n",
    "    elif 154<= avgbr<176:\n",
    "        avgbr = 7\n",
    "    elif 176<= avgbr<198:\n",
    "        avgbr = 8\n",
    "    elif 198<= avgbr<220:\n",
    "        avgbr = 9\n",
    "    else:\n",
    "        avgbr = 10\n",
    "    \n",
    "    return avgbr\n",
    "\n",
    "x = brightness(avg_maxval)\n",
    "print('>> Average Brightness: {}'.format(x))"
   ]
  }
 ],
 "metadata": {
  "kernelspec": {
   "display_name": "Python 3",
   "language": "python",
   "name": "python3"
  },
  "language_info": {
   "codemirror_mode": {
    "name": "ipython",
    "version": 3
   },
   "file_extension": ".py",
   "mimetype": "text/x-python",
   "name": "python",
   "nbconvert_exporter": "python",
   "pygments_lexer": "ipython3",
   "version": "3.6.7"
  },
  "toc": {
   "base_numbering": 1,
   "nav_menu": {},
   "number_sections": true,
   "sideBar": true,
   "skip_h1_title": false,
   "title_cell": "Table Of Contents />",
   "title_sidebar": "Contents",
   "toc_cell": true,
   "toc_position": {},
   "toc_section_display": true,
   "toc_window_display": true
  }
 },
 "nbformat": 4,
 "nbformat_minor": 2
}
